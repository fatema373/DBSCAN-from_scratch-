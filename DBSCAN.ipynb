{
  "metadata": {
    "kernelspec": {
      "language": "python",
      "display_name": "Python 3",
      "name": "python3"
    },
    "language_info": {
      "name": "python",
      "version": "3.7.12",
      "mimetype": "text/x-python",
      "codemirror_mode": {
        "name": "ipython",
        "version": 3
      },
      "pygments_lexer": "ipython3",
      "nbconvert_exporter": "python",
      "file_extension": ".py"
    },
    "colab": {
      "provenance": [],
      "include_colab_link": true
    }
  },
  "nbformat_minor": 0,
  "nbformat": 4,
  "cells": [
    {
      "cell_type": "markdown",
      "metadata": {
        "id": "view-in-github",
        "colab_type": "text"
      },
      "source": [
        "<a href=\"https://colab.research.google.com/github/fatema373/DBSCAN-from_scratch-/blob/main/DBSCAN.ipynb\" target=\"_parent\"><img src=\"https://colab.research.google.com/assets/colab-badge.svg\" alt=\"Open In Colab\"/></a>"
      ]
    },
    {
      "cell_type": "code",
      "source": [
        "# This Python 3 environment comes with many helpful analytics libraries installed\n",
        "# It is defined by the kaggle/python Docker image: https://github.com/kaggle/docker-python\n",
        "# For example, here's several helpful packages to load\n",
        "\n",
        "import numpy as np # linear algebra\n",
        "import pandas as pd # data processing, CSV file I/O (e.g. pd.read_csv)\n",
        "\n",
        "# Input data files are available in the read-only \"../input/\" directory\n",
        "# For example, running this (by clicking run or pressing Shift+Enter) will list all files under the input directory\n",
        "\n",
        "import os\n",
        "for dirname, _, filenames in os.walk('/kaggle/input'):\n",
        "    for filename in filenames:\n",
        "        print(os.path.join(dirname, filename))\n",
        "\n",
        "# You can write up to 20GB to the current directory (/kaggle/working/) that gets preserved as output when you create a version using \"Save & Run All\" \n",
        "# You can also write temporary files to /kaggle/temp/, but they won't be saved outside of the current session"
      ],
      "metadata": {
        "_uuid": "8f2839f25d086af736a60e9eeb907d3b93b6e0e5",
        "_cell_guid": "b1076dfc-b9ad-4769-8c92-a6c4dae69d19",
        "execution": {
          "iopub.status.busy": "2022-12-30T17:16:15.970887Z",
          "iopub.execute_input": "2022-12-30T17:16:15.971686Z",
          "iopub.status.idle": "2022-12-30T17:16:15.990809Z",
          "shell.execute_reply.started": "2022-12-30T17:16:15.971646Z",
          "shell.execute_reply": "2022-12-30T17:16:15.989426Z"
        },
        "trusted": true,
        "id": "Nxla2HpOFo4M",
        "outputId": "470dd896-b2bf-4b11-d572-48aee4c70c0f"
      },
      "execution_count": null,
      "outputs": [
        {
          "name": "stdout",
          "text": "/kaggle/input/diabetes-dataset/diabetes2.csv\n",
          "output_type": "stream"
        }
      ]
    },
    {
      "cell_type": "code",
      "source": [
        "import seaborn as sns\n",
        "import numpy as np # linear algebra\n",
        "import pandas as pd # data processing, CSV file I/O (e.g. pd.read_csv)\n",
        "from matplotlib import pyplot as plt"
      ],
      "metadata": {
        "execution": {
          "iopub.status.busy": "2022-12-30T17:16:16.202915Z",
          "iopub.execute_input": "2022-12-30T17:16:16.203260Z",
          "iopub.status.idle": "2022-12-30T17:16:16.208355Z",
          "shell.execute_reply.started": "2022-12-30T17:16:16.203231Z",
          "shell.execute_reply": "2022-12-30T17:16:16.207149Z"
        },
        "trusted": true,
        "id": "dvULoT7WFo4R"
      },
      "execution_count": null,
      "outputs": []
    },
    {
      "cell_type": "code",
      "source": [
        "df=pd.read_csv('/kaggle/input/diabetes-dataset/diabetes2.csv')"
      ],
      "metadata": {
        "execution": {
          "iopub.status.busy": "2022-12-30T17:16:16.294867Z",
          "iopub.execute_input": "2022-12-30T17:16:16.296329Z",
          "iopub.status.idle": "2022-12-30T17:16:16.306017Z",
          "shell.execute_reply.started": "2022-12-30T17:16:16.296292Z",
          "shell.execute_reply": "2022-12-30T17:16:16.305048Z"
        },
        "trusted": true,
        "id": "oxJBOqu0Fo4S"
      },
      "execution_count": null,
      "outputs": []
    },
    {
      "cell_type": "markdown",
      "source": [
        "![download.png](attachment:d20b5f14-a6d4-471b-9229-a9bd55dbd3af.png)"
      ],
      "metadata": {
        "id": "iYAS7LtkFo4T"
      }
    },
    {
      "cell_type": "code",
      "source": [
        "df.head()"
      ],
      "metadata": {
        "execution": {
          "iopub.status.busy": "2022-12-30T17:16:16.392467Z",
          "iopub.execute_input": "2022-12-30T17:16:16.392755Z",
          "iopub.status.idle": "2022-12-30T17:16:16.407167Z",
          "shell.execute_reply.started": "2022-12-30T17:16:16.392729Z",
          "shell.execute_reply": "2022-12-30T17:16:16.405989Z"
        },
        "trusted": true,
        "id": "mGyRuvW5Fo4U",
        "outputId": "b35dee7d-d1be-41ff-8b0e-0ba0235dadac"
      },
      "execution_count": null,
      "outputs": [
        {
          "execution_count": 187,
          "output_type": "execute_result",
          "data": {
            "text/plain": "   Pregnancies  Glucose  BloodPressure  SkinThickness  Insulin   BMI  \\\n0            6      148             72             35        0  33.6   \n1            1       85             66             29        0  26.6   \n2            8      183             64              0        0  23.3   \n3            1       89             66             23       94  28.1   \n4            0      137             40             35      168  43.1   \n\n   DiabetesPedigreeFunction  Age  Outcome  \n0                     0.627   50        1  \n1                     0.351   31        0  \n2                     0.672   32        1  \n3                     0.167   21        0  \n4                     2.288   33        1  ",
            "text/html": "<div>\n<style scoped>\n    .dataframe tbody tr th:only-of-type {\n        vertical-align: middle;\n    }\n\n    .dataframe tbody tr th {\n        vertical-align: top;\n    }\n\n    .dataframe thead th {\n        text-align: right;\n    }\n</style>\n<table border=\"1\" class=\"dataframe\">\n  <thead>\n    <tr style=\"text-align: right;\">\n      <th></th>\n      <th>Pregnancies</th>\n      <th>Glucose</th>\n      <th>BloodPressure</th>\n      <th>SkinThickness</th>\n      <th>Insulin</th>\n      <th>BMI</th>\n      <th>DiabetesPedigreeFunction</th>\n      <th>Age</th>\n      <th>Outcome</th>\n    </tr>\n  </thead>\n  <tbody>\n    <tr>\n      <th>0</th>\n      <td>6</td>\n      <td>148</td>\n      <td>72</td>\n      <td>35</td>\n      <td>0</td>\n      <td>33.6</td>\n      <td>0.627</td>\n      <td>50</td>\n      <td>1</td>\n    </tr>\n    <tr>\n      <th>1</th>\n      <td>1</td>\n      <td>85</td>\n      <td>66</td>\n      <td>29</td>\n      <td>0</td>\n      <td>26.6</td>\n      <td>0.351</td>\n      <td>31</td>\n      <td>0</td>\n    </tr>\n    <tr>\n      <th>2</th>\n      <td>8</td>\n      <td>183</td>\n      <td>64</td>\n      <td>0</td>\n      <td>0</td>\n      <td>23.3</td>\n      <td>0.672</td>\n      <td>32</td>\n      <td>1</td>\n    </tr>\n    <tr>\n      <th>3</th>\n      <td>1</td>\n      <td>89</td>\n      <td>66</td>\n      <td>23</td>\n      <td>94</td>\n      <td>28.1</td>\n      <td>0.167</td>\n      <td>21</td>\n      <td>0</td>\n    </tr>\n    <tr>\n      <th>4</th>\n      <td>0</td>\n      <td>137</td>\n      <td>40</td>\n      <td>35</td>\n      <td>168</td>\n      <td>43.1</td>\n      <td>2.288</td>\n      <td>33</td>\n      <td>1</td>\n    </tr>\n  </tbody>\n</table>\n</div>"
          },
          "metadata": {}
        }
      ]
    },
    {
      "cell_type": "code",
      "source": [
        "len(df.columns)"
      ],
      "metadata": {
        "execution": {
          "iopub.status.busy": "2022-12-30T17:16:16.512379Z",
          "iopub.execute_input": "2022-12-30T17:16:16.512660Z",
          "iopub.status.idle": "2022-12-30T17:16:16.518330Z",
          "shell.execute_reply.started": "2022-12-30T17:16:16.512633Z",
          "shell.execute_reply": "2022-12-30T17:16:16.517252Z"
        },
        "trusted": true,
        "id": "Yzr4Yv1bFo4V",
        "outputId": "c5e2a166-4e62-4565-89e9-2f81f2dc764f"
      },
      "execution_count": null,
      "outputs": [
        {
          "execution_count": 188,
          "output_type": "execute_result",
          "data": {
            "text/plain": "9"
          },
          "metadata": {}
        }
      ]
    },
    {
      "cell_type": "code",
      "source": [
        "df.info()"
      ],
      "metadata": {
        "execution": {
          "iopub.status.busy": "2022-12-30T17:16:16.627307Z",
          "iopub.execute_input": "2022-12-30T17:16:16.629308Z",
          "iopub.status.idle": "2022-12-30T17:16:16.642732Z",
          "shell.execute_reply.started": "2022-12-30T17:16:16.629281Z",
          "shell.execute_reply": "2022-12-30T17:16:16.641136Z"
        },
        "trusted": true,
        "id": "NK1NkWXfFo4W",
        "outputId": "9ec2ab08-2565-4da4-d23d-b321aed0fae3"
      },
      "execution_count": null,
      "outputs": [
        {
          "name": "stdout",
          "text": "<class 'pandas.core.frame.DataFrame'>\nRangeIndex: 768 entries, 0 to 767\nData columns (total 9 columns):\n #   Column                    Non-Null Count  Dtype  \n---  ------                    --------------  -----  \n 0   Pregnancies               768 non-null    int64  \n 1   Glucose                   768 non-null    int64  \n 2   BloodPressure             768 non-null    int64  \n 3   SkinThickness             768 non-null    int64  \n 4   Insulin                   768 non-null    int64  \n 5   BMI                       768 non-null    float64\n 6   DiabetesPedigreeFunction  768 non-null    float64\n 7   Age                       768 non-null    int64  \n 8   Outcome                   768 non-null    int64  \ndtypes: float64(2), int64(7)\nmemory usage: 54.1 KB\n",
          "output_type": "stream"
        }
      ]
    },
    {
      "cell_type": "markdown",
      "source": [
        "![image.png](attachment:773009b2-07fc-4c40-8b8c-0289f326ab4e.png)"
      ],
      "metadata": {
        "id": "3zXPGR7XFo4W"
      }
    },
    {
      "cell_type": "code",
      "source": [
        "df.describe()"
      ],
      "metadata": {
        "execution": {
          "iopub.status.busy": "2022-12-30T17:16:16.731397Z",
          "iopub.execute_input": "2022-12-30T17:16:16.731674Z",
          "iopub.status.idle": "2022-12-30T17:16:16.770257Z",
          "shell.execute_reply.started": "2022-12-30T17:16:16.731648Z",
          "shell.execute_reply": "2022-12-30T17:16:16.769001Z"
        },
        "trusted": true,
        "id": "nqg6AXibFo4X",
        "outputId": "6147195e-b459-410b-bbf8-89fcffa07b5b"
      },
      "execution_count": null,
      "outputs": [
        {
          "execution_count": 190,
          "output_type": "execute_result",
          "data": {
            "text/plain": "       Pregnancies     Glucose  BloodPressure  SkinThickness     Insulin  \\\ncount   768.000000  768.000000     768.000000     768.000000  768.000000   \nmean      3.845052  120.894531      69.105469      20.536458   79.799479   \nstd       3.369578   31.972618      19.355807      15.952218  115.244002   \nmin       0.000000    0.000000       0.000000       0.000000    0.000000   \n25%       1.000000   99.000000      62.000000       0.000000    0.000000   \n50%       3.000000  117.000000      72.000000      23.000000   30.500000   \n75%       6.000000  140.250000      80.000000      32.000000  127.250000   \nmax      17.000000  199.000000     122.000000      99.000000  846.000000   \n\n              BMI  DiabetesPedigreeFunction         Age     Outcome  \ncount  768.000000                768.000000  768.000000  768.000000  \nmean    31.992578                  0.471876   33.240885    0.348958  \nstd      7.884160                  0.331329   11.760232    0.476951  \nmin      0.000000                  0.078000   21.000000    0.000000  \n25%     27.300000                  0.243750   24.000000    0.000000  \n50%     32.000000                  0.372500   29.000000    0.000000  \n75%     36.600000                  0.626250   41.000000    1.000000  \nmax     67.100000                  2.420000   81.000000    1.000000  ",
            "text/html": "<div>\n<style scoped>\n    .dataframe tbody tr th:only-of-type {\n        vertical-align: middle;\n    }\n\n    .dataframe tbody tr th {\n        vertical-align: top;\n    }\n\n    .dataframe thead th {\n        text-align: right;\n    }\n</style>\n<table border=\"1\" class=\"dataframe\">\n  <thead>\n    <tr style=\"text-align: right;\">\n      <th></th>\n      <th>Pregnancies</th>\n      <th>Glucose</th>\n      <th>BloodPressure</th>\n      <th>SkinThickness</th>\n      <th>Insulin</th>\n      <th>BMI</th>\n      <th>DiabetesPedigreeFunction</th>\n      <th>Age</th>\n      <th>Outcome</th>\n    </tr>\n  </thead>\n  <tbody>\n    <tr>\n      <th>count</th>\n      <td>768.000000</td>\n      <td>768.000000</td>\n      <td>768.000000</td>\n      <td>768.000000</td>\n      <td>768.000000</td>\n      <td>768.000000</td>\n      <td>768.000000</td>\n      <td>768.000000</td>\n      <td>768.000000</td>\n    </tr>\n    <tr>\n      <th>mean</th>\n      <td>3.845052</td>\n      <td>120.894531</td>\n      <td>69.105469</td>\n      <td>20.536458</td>\n      <td>79.799479</td>\n      <td>31.992578</td>\n      <td>0.471876</td>\n      <td>33.240885</td>\n      <td>0.348958</td>\n    </tr>\n    <tr>\n      <th>std</th>\n      <td>3.369578</td>\n      <td>31.972618</td>\n      <td>19.355807</td>\n      <td>15.952218</td>\n      <td>115.244002</td>\n      <td>7.884160</td>\n      <td>0.331329</td>\n      <td>11.760232</td>\n      <td>0.476951</td>\n    </tr>\n    <tr>\n      <th>min</th>\n      <td>0.000000</td>\n      <td>0.000000</td>\n      <td>0.000000</td>\n      <td>0.000000</td>\n      <td>0.000000</td>\n      <td>0.000000</td>\n      <td>0.078000</td>\n      <td>21.000000</td>\n      <td>0.000000</td>\n    </tr>\n    <tr>\n      <th>25%</th>\n      <td>1.000000</td>\n      <td>99.000000</td>\n      <td>62.000000</td>\n      <td>0.000000</td>\n      <td>0.000000</td>\n      <td>27.300000</td>\n      <td>0.243750</td>\n      <td>24.000000</td>\n      <td>0.000000</td>\n    </tr>\n    <tr>\n      <th>50%</th>\n      <td>3.000000</td>\n      <td>117.000000</td>\n      <td>72.000000</td>\n      <td>23.000000</td>\n      <td>30.500000</td>\n      <td>32.000000</td>\n      <td>0.372500</td>\n      <td>29.000000</td>\n      <td>0.000000</td>\n    </tr>\n    <tr>\n      <th>75%</th>\n      <td>6.000000</td>\n      <td>140.250000</td>\n      <td>80.000000</td>\n      <td>32.000000</td>\n      <td>127.250000</td>\n      <td>36.600000</td>\n      <td>0.626250</td>\n      <td>41.000000</td>\n      <td>1.000000</td>\n    </tr>\n    <tr>\n      <th>max</th>\n      <td>17.000000</td>\n      <td>199.000000</td>\n      <td>122.000000</td>\n      <td>99.000000</td>\n      <td>846.000000</td>\n      <td>67.100000</td>\n      <td>2.420000</td>\n      <td>81.000000</td>\n      <td>1.000000</td>\n    </tr>\n  </tbody>\n</table>\n</div>"
          },
          "metadata": {}
        }
      ]
    },
    {
      "cell_type": "code",
      "source": [
        "X=df.drop(df[['Outcome']],axis=1)\n",
        "y=df['Outcome']"
      ],
      "metadata": {
        "execution": {
          "iopub.status.busy": "2022-12-30T17:16:16.799187Z",
          "iopub.execute_input": "2022-12-30T17:16:16.799453Z",
          "iopub.status.idle": "2022-12-30T17:16:16.805902Z",
          "shell.execute_reply.started": "2022-12-30T17:16:16.799429Z",
          "shell.execute_reply": "2022-12-30T17:16:16.804642Z"
        },
        "trusted": true,
        "id": "epBAVDFrFo4X"
      },
      "execution_count": null,
      "outputs": []
    },
    {
      "cell_type": "code",
      "source": [
        "\n",
        "# X=X.iloc[:150]\n",
        "# y=y.iloc[:150]"
      ],
      "metadata": {
        "execution": {
          "iopub.status.busy": "2022-12-30T17:16:16.926443Z",
          "iopub.execute_input": "2022-12-30T17:16:16.927041Z",
          "iopub.status.idle": "2022-12-30T17:16:16.931834Z",
          "shell.execute_reply.started": "2022-12-30T17:16:16.927001Z",
          "shell.execute_reply": "2022-12-30T17:16:16.930820Z"
        },
        "trusted": true,
        "id": "ycu56LjmFo4Y"
      },
      "execution_count": null,
      "outputs": []
    },
    {
      "cell_type": "code",
      "source": [],
      "metadata": {
        "id": "lCQyogcJFo4Y"
      },
      "execution_count": null,
      "outputs": []
    },
    {
      "cell_type": "code",
      "source": [
        "X"
      ],
      "metadata": {
        "execution": {
          "iopub.status.busy": "2022-12-30T17:16:17.211552Z",
          "iopub.execute_input": "2022-12-30T17:16:17.211904Z",
          "iopub.status.idle": "2022-12-30T17:16:17.231944Z",
          "shell.execute_reply.started": "2022-12-30T17:16:17.211874Z",
          "shell.execute_reply": "2022-12-30T17:16:17.230837Z"
        },
        "trusted": true,
        "id": "Zlp0HZ2CFo4Z",
        "outputId": "914c8874-7527-495c-bd14-72e454e65c43"
      },
      "execution_count": null,
      "outputs": [
        {
          "execution_count": 193,
          "output_type": "execute_result",
          "data": {
            "text/plain": "     Pregnancies  Glucose  BloodPressure  SkinThickness  Insulin   BMI  \\\n0              6      148             72             35        0  33.6   \n1              1       85             66             29        0  26.6   \n2              8      183             64              0        0  23.3   \n3              1       89             66             23       94  28.1   \n4              0      137             40             35      168  43.1   \n..           ...      ...            ...            ...      ...   ...   \n763           10      101             76             48      180  32.9   \n764            2      122             70             27        0  36.8   \n765            5      121             72             23      112  26.2   \n766            1      126             60              0        0  30.1   \n767            1       93             70             31        0  30.4   \n\n     DiabetesPedigreeFunction  Age  \n0                       0.627   50  \n1                       0.351   31  \n2                       0.672   32  \n3                       0.167   21  \n4                       2.288   33  \n..                        ...  ...  \n763                     0.171   63  \n764                     0.340   27  \n765                     0.245   30  \n766                     0.349   47  \n767                     0.315   23  \n\n[768 rows x 8 columns]",
            "text/html": "<div>\n<style scoped>\n    .dataframe tbody tr th:only-of-type {\n        vertical-align: middle;\n    }\n\n    .dataframe tbody tr th {\n        vertical-align: top;\n    }\n\n    .dataframe thead th {\n        text-align: right;\n    }\n</style>\n<table border=\"1\" class=\"dataframe\">\n  <thead>\n    <tr style=\"text-align: right;\">\n      <th></th>\n      <th>Pregnancies</th>\n      <th>Glucose</th>\n      <th>BloodPressure</th>\n      <th>SkinThickness</th>\n      <th>Insulin</th>\n      <th>BMI</th>\n      <th>DiabetesPedigreeFunction</th>\n      <th>Age</th>\n    </tr>\n  </thead>\n  <tbody>\n    <tr>\n      <th>0</th>\n      <td>6</td>\n      <td>148</td>\n      <td>72</td>\n      <td>35</td>\n      <td>0</td>\n      <td>33.6</td>\n      <td>0.627</td>\n      <td>50</td>\n    </tr>\n    <tr>\n      <th>1</th>\n      <td>1</td>\n      <td>85</td>\n      <td>66</td>\n      <td>29</td>\n      <td>0</td>\n      <td>26.6</td>\n      <td>0.351</td>\n      <td>31</td>\n    </tr>\n    <tr>\n      <th>2</th>\n      <td>8</td>\n      <td>183</td>\n      <td>64</td>\n      <td>0</td>\n      <td>0</td>\n      <td>23.3</td>\n      <td>0.672</td>\n      <td>32</td>\n    </tr>\n    <tr>\n      <th>3</th>\n      <td>1</td>\n      <td>89</td>\n      <td>66</td>\n      <td>23</td>\n      <td>94</td>\n      <td>28.1</td>\n      <td>0.167</td>\n      <td>21</td>\n    </tr>\n    <tr>\n      <th>4</th>\n      <td>0</td>\n      <td>137</td>\n      <td>40</td>\n      <td>35</td>\n      <td>168</td>\n      <td>43.1</td>\n      <td>2.288</td>\n      <td>33</td>\n    </tr>\n    <tr>\n      <th>...</th>\n      <td>...</td>\n      <td>...</td>\n      <td>...</td>\n      <td>...</td>\n      <td>...</td>\n      <td>...</td>\n      <td>...</td>\n      <td>...</td>\n    </tr>\n    <tr>\n      <th>763</th>\n      <td>10</td>\n      <td>101</td>\n      <td>76</td>\n      <td>48</td>\n      <td>180</td>\n      <td>32.9</td>\n      <td>0.171</td>\n      <td>63</td>\n    </tr>\n    <tr>\n      <th>764</th>\n      <td>2</td>\n      <td>122</td>\n      <td>70</td>\n      <td>27</td>\n      <td>0</td>\n      <td>36.8</td>\n      <td>0.340</td>\n      <td>27</td>\n    </tr>\n    <tr>\n      <th>765</th>\n      <td>5</td>\n      <td>121</td>\n      <td>72</td>\n      <td>23</td>\n      <td>112</td>\n      <td>26.2</td>\n      <td>0.245</td>\n      <td>30</td>\n    </tr>\n    <tr>\n      <th>766</th>\n      <td>1</td>\n      <td>126</td>\n      <td>60</td>\n      <td>0</td>\n      <td>0</td>\n      <td>30.1</td>\n      <td>0.349</td>\n      <td>47</td>\n    </tr>\n    <tr>\n      <th>767</th>\n      <td>1</td>\n      <td>93</td>\n      <td>70</td>\n      <td>31</td>\n      <td>0</td>\n      <td>30.4</td>\n      <td>0.315</td>\n      <td>23</td>\n    </tr>\n  </tbody>\n</table>\n<p>768 rows × 8 columns</p>\n</div>"
          },
          "metadata": {}
        }
      ]
    },
    {
      "cell_type": "code",
      "source": [
        "X_meaned = X - np.mean(X , axis = 0)\n",
        "print (X_meaned)\n",
        "print(X.shape)\n",
        "print (X_meaned.shape)"
      ],
      "metadata": {
        "execution": {
          "iopub.status.busy": "2022-12-30T17:16:17.725521Z",
          "iopub.execute_input": "2022-12-30T17:16:17.727403Z",
          "iopub.status.idle": "2022-12-30T17:16:17.744335Z",
          "shell.execute_reply.started": "2022-12-30T17:16:17.727358Z",
          "shell.execute_reply": "2022-12-30T17:16:17.742998Z"
        },
        "trusted": true,
        "id": "XXOt1OEhFo4Z",
        "outputId": "eff9045e-f686-4141-96c6-2ae24e564916"
      },
      "execution_count": null,
      "outputs": [
        {
          "name": "stdout",
          "text": "     Pregnancies    Glucose  BloodPressure  SkinThickness     Insulin  \\\n0       2.154948  27.105469       2.894531      14.463542  -79.799479   \n1      -2.845052 -35.894531      -3.105469       8.463542  -79.799479   \n2       4.154948  62.105469      -5.105469     -20.536458  -79.799479   \n3      -2.845052 -31.894531      -3.105469       2.463542   14.200521   \n4      -3.845052  16.105469     -29.105469      14.463542   88.200521   \n..           ...        ...            ...            ...         ...   \n763     6.154948 -19.894531       6.894531      27.463542  100.200521   \n764    -1.845052   1.105469       0.894531       6.463542  -79.799479   \n765     1.154948   0.105469       2.894531       2.463542   32.200521   \n766    -2.845052   5.105469      -9.105469     -20.536458  -79.799479   \n767    -2.845052 -27.894531       0.894531      10.463542  -79.799479   \n\n           BMI  DiabetesPedigreeFunction        Age  \n0     1.607422                  0.155124  16.759115  \n1    -5.392578                 -0.120876  -2.240885  \n2    -8.692578                  0.200124  -1.240885  \n3    -3.892578                 -0.304876 -12.240885  \n4    11.107422                  1.816124  -0.240885  \n..         ...                       ...        ...  \n763   0.907422                 -0.300876  29.759115  \n764   4.807422                 -0.131876  -6.240885  \n765  -5.792578                 -0.226876  -3.240885  \n766  -1.892578                 -0.122876  13.759115  \n767  -1.592578                 -0.156876 -10.240885  \n\n[768 rows x 8 columns]\n(768, 8)\n(768, 8)\n",
          "output_type": "stream"
        }
      ]
    },
    {
      "cell_type": "code",
      "source": [
        "#2- Calc Covariance Matrix\n",
        "cov_mat = np.cov(X_meaned , rowvar = False) \n",
        "print (cov_mat.shape)\n",
        "print (cov_mat)"
      ],
      "metadata": {
        "execution": {
          "iopub.status.busy": "2022-12-30T17:16:17.837447Z",
          "iopub.execute_input": "2022-12-30T17:16:17.838207Z",
          "iopub.status.idle": "2022-12-30T17:16:17.846682Z",
          "shell.execute_reply.started": "2022-12-30T17:16:17.838174Z",
          "shell.execute_reply": "2022-12-30T17:16:17.845342Z"
        },
        "trusted": true,
        "id": "d4ORQRruFo4Z",
        "outputId": "c65e5912-ca98-4985-f080-0d1894217b73"
      },
      "execution_count": null,
      "outputs": [
        {
          "name": "stdout",
          "text": "(8, 8)\n[[ 1.13540563e+01  1.39471307e+01  9.21453818e+00 -4.39004101e+00\n  -2.85552307e+01  4.69774181e-01 -3.74259714e-02  2.15706198e+01]\n [ 1.39471307e+01  1.02224831e+03  9.44309556e+01  2.92391827e+01\n   1.22093580e+03  5.57269867e+01  1.45487481e+00  9.90828054e+01]\n [ 9.21453818e+00  9.44309556e+01  3.74647271e+02  6.40293962e+01\n   1.98378412e+02  4.30046951e+01  2.64637574e-01  5.45234528e+01]\n [-4.39004101e+00  2.92391827e+01  6.40293962e+01  2.54473245e+02\n   8.02979941e+02  4.93738694e+01  9.72135546e-01 -2.13810232e+01]\n [-2.85552307e+01  1.22093580e+03  1.98378412e+02  8.02979941e+02\n   1.32811801e+04  1.79775172e+02  7.06668051e+00 -5.71432903e+01]\n [ 4.69774181e-01  5.57269867e+01  4.30046951e+01  4.93738694e+01\n   1.79775172e+02  6.21599840e+01  3.67404687e-01  3.36032992e+00]\n [-3.74259714e-02  1.45487481e+00  2.64637574e-01  9.72135546e-01\n   7.06668051e+00  3.67404687e-01  1.09778638e-01  1.30771687e-01]\n [ 2.15706198e+01  9.90828054e+01  5.45234528e+01 -2.13810232e+01\n  -5.71432903e+01  3.36032992e+00  1.30771687e-01  1.38303046e+02]]\n",
          "output_type": "stream"
        }
      ]
    },
    {
      "cell_type": "code",
      "source": [
        "# cov_matrix = pd.DataFrame.cov(df)\n",
        "# sns.heatmap(cov_mat, annot=True, fmt='g')\n",
        "# plt.show()"
      ],
      "metadata": {
        "execution": {
          "iopub.status.busy": "2022-12-30T17:16:17.961957Z",
          "iopub.execute_input": "2022-12-30T17:16:17.962770Z",
          "iopub.status.idle": "2022-12-30T17:16:17.967097Z",
          "shell.execute_reply.started": "2022-12-30T17:16:17.962733Z",
          "shell.execute_reply": "2022-12-30T17:16:17.965977Z"
        },
        "trusted": true,
        "id": "H7RkkQvbFo4a"
      },
      "execution_count": null,
      "outputs": []
    },
    {
      "cell_type": "code",
      "source": [
        "eigen_values , eigen_vectors = np.linalg.eigh(cov_mat)\n",
        "#sort the eigenvalues in descending order\n",
        "sorted_index = np.argsort(eigen_values)[::-1]\n",
        "print (sorted_index)\n",
        "sorted_eigenvalue = eigen_values[sorted_index]\n",
        "#similarly sort the eigenvectors\n",
        "sorted_eigenvectors = eigen_vectors[:,sorted_index]\n"
      ],
      "metadata": {
        "execution": {
          "iopub.status.busy": "2022-12-30T17:16:18.056927Z",
          "iopub.execute_input": "2022-12-30T17:16:18.057711Z",
          "iopub.status.idle": "2022-12-30T17:16:18.071367Z",
          "shell.execute_reply.started": "2022-12-30T17:16:18.057675Z",
          "shell.execute_reply": "2022-12-30T17:16:18.069298Z"
        },
        "trusted": true,
        "id": "6wmyLTl0Fo4a",
        "outputId": "8337031a-7561-43df-f2f3-ac4b0414ef66"
      },
      "execution_count": null,
      "outputs": [
        {
          "name": "stdout",
          "text": "[7 6 5 4 3 2 1 0]\n",
          "output_type": "stream"
        }
      ]
    },
    {
      "cell_type": "code",
      "source": [
        "X_reduced=[]\n",
        "for n_components in [2,3,4,6,7]:\n",
        "    eigenvector_subset = sorted_eigenvectors[:,0:n_components]\n",
        "    X_reduced.append( np.dot(eigenvector_subset.transpose(),X_meaned.transpose()).transpose())"
      ],
      "metadata": {
        "execution": {
          "iopub.status.busy": "2022-12-30T18:59:44.373070Z",
          "iopub.execute_input": "2022-12-30T18:59:44.373874Z",
          "iopub.status.idle": "2022-12-30T18:59:44.382954Z",
          "shell.execute_reply.started": "2022-12-30T18:59:44.373835Z",
          "shell.execute_reply": "2022-12-30T18:59:44.381633Z"
        },
        "trusted": true,
        "id": "VC6fVtX9Fo4a"
      },
      "execution_count": null,
      "outputs": []
    },
    {
      "cell_type": "code",
      "source": [
        "X_reduced[0].shape"
      ],
      "metadata": {
        "execution": {
          "iopub.status.busy": "2022-12-30T18:59:48.132999Z",
          "iopub.execute_input": "2022-12-30T18:59:48.134026Z",
          "iopub.status.idle": "2022-12-30T18:59:48.142667Z",
          "shell.execute_reply.started": "2022-12-30T18:59:48.133987Z",
          "shell.execute_reply": "2022-12-30T18:59:48.141450Z"
        },
        "trusted": true,
        "id": "czWGJQnGFo4b",
        "outputId": "65722c9d-54c4-4bbc-e804-f6433dc98a15"
      },
      "execution_count": null,
      "outputs": [
        {
          "execution_count": 233,
          "output_type": "execute_result",
          "data": {
            "text/plain": "(768, 2)"
          },
          "metadata": {}
        }
      ]
    },
    {
      "cell_type": "code",
      "source": [
        "from sklearn.decomposition import PCA\n",
        "import plotly.express as px\n",
        "pca_ = PCA()\n",
        "pca_.fit_transform(X)\n",
        "plt.grid(True)\n",
        "plt.plot(np.cumsum(pca_.explained_variance_ratio_ * 100))"
      ],
      "metadata": {
        "execution": {
          "iopub.status.busy": "2022-12-30T17:16:18.357420Z",
          "iopub.execute_input": "2022-12-30T17:16:18.358061Z",
          "iopub.status.idle": "2022-12-30T17:16:18.598367Z",
          "shell.execute_reply.started": "2022-12-30T17:16:18.358024Z",
          "shell.execute_reply": "2022-12-30T17:16:18.597329Z"
        },
        "trusted": true,
        "id": "N58G9h0CFo4b",
        "outputId": "b8d81133-a285-43c5-b0de-22d3fa351f18"
      },
      "execution_count": null,
      "outputs": [
        {
          "execution_count": 200,
          "output_type": "execute_result",
          "data": {
            "text/plain": "[<matplotlib.lines.Line2D at 0x7f6683863150>]"
          },
          "metadata": {}
        },
        {
          "output_type": "display_data",
          "data": {
            "text/plain": "<Figure size 432x288 with 1 Axes>",
            "image/png": "[encoded data removed]"
          },
          "metadata": {
            "needs_background": "light"
          }
        }
      ]
    },
    {
      "cell_type": "code",
      "source": [
        "X_reduced_2=X_reduced[0]"
      ],
      "metadata": {
        "execution": {
          "iopub.status.busy": "2022-12-30T20:02:38.770350Z",
          "iopub.execute_input": "2022-12-30T20:02:38.770875Z",
          "iopub.status.idle": "2022-12-30T20:02:38.780068Z",
          "shell.execute_reply.started": "2022-12-30T20:02:38.770831Z",
          "shell.execute_reply": "2022-12-30T20:02:38.778623Z"
        },
        "trusted": true,
        "id": "0ZXYQuT0Fo4b"
      },
      "execution_count": null,
      "outputs": []
    },
    {
      "cell_type": "markdown",
      "source": [
        "* ***DBSCAN ALGORITHM***"
      ],
      "metadata": {
        "id": "Ua85BtGPFo4c"
      }
    },
    {
      "cell_type": "code",
      "source": [
        "from scipy.spatial import distance\n",
        "def calculate_distance(data):\n",
        "    distance_matrix=np.zeros((data.shape[0],data.shape[0]))\n",
        "    for i in range(data.shape[0]):\n",
        "        for j in range(i):\n",
        "            distance_matrix[i][j],distance_matrix[j][i]= distance.euclidean(data[i],data[j]), distance.euclidean(data[i],data[j])\n",
        "    return distance_matrix\n",
        "distance_matrix=calculate_distance(X_reduced_2)"
      ],
      "metadata": {
        "execution": {
          "iopub.status.busy": "2022-12-30T20:08:29.050238Z",
          "iopub.execute_input": "2022-12-30T20:08:29.051447Z",
          "iopub.status.idle": "2022-12-30T20:08:34.341286Z",
          "shell.execute_reply.started": "2022-12-30T20:08:29.051400Z",
          "shell.execute_reply": "2022-12-30T20:08:34.340193Z"
        },
        "trusted": true,
        "id": "kSQ08GFZFo4c"
      },
      "execution_count": null,
      "outputs": []
    },
    {
      "cell_type": "code",
      "source": [
        "distance_matrix "
      ],
      "metadata": {
        "execution": {
          "iopub.status.busy": "2022-12-30T20:08:34.343440Z",
          "iopub.execute_input": "2022-12-30T20:08:34.344157Z",
          "iopub.status.idle": "2022-12-30T20:08:34.352930Z",
          "shell.execute_reply.started": "2022-12-30T20:08:34.344115Z",
          "shell.execute_reply": "2022-12-30T20:08:34.351732Z"
        },
        "collapsed": true,
        "jupyter": {
          "outputs_hidden": true
        },
        "trusted": true,
        "id": "IL01Vzq2Fo4c",
        "outputId": "9b910d6d-9112-4171-9b66-50e0e80102e7"
      },
      "execution_count": null,
      "outputs": [
        {
          "execution_count": 316,
          "output_type": "execute_result",
          "data": {
            "text/plain": "array([[  0.        ,  65.19836603,  31.97409462, ..., 114.77584259,\n         22.22506372,  57.84336141],\n       [ 65.19836603,   0.        ,  97.12262449, ..., 117.2841697 ,\n         43.1475223 ,   7.36199664],\n       [ 31.97409462,  97.12262449,   0.        , ..., 128.35706767,\n         54.00989731,  89.77667033],\n       ...,\n       [114.77584259, 117.2841697 , 128.35706767, ...,   0.        ,\n        113.69238501, 114.87939784],\n       [ 22.22506372,  43.1475223 ,  54.00989731, ..., 113.69238501,\n          0.        ,  35.82421348],\n       [ 57.84336141,   7.36199664,  89.77667033, ..., 114.87939784,\n         35.82421348,   0.        ]])"
          },
          "metadata": {}
        }
      ]
    },
    {
      "cell_type": "code",
      "source": [
        "def neighbours_(idx_point,distance_matrix,epslion):\n",
        "    neighbours=[]\n",
        "    for i in range(distance_matrix.shape[0]):\n",
        "        if distance_matrix[idx_point][i]<=epslion and idx_point!=i:\n",
        "            neighbours.append(i)\n",
        "    return neighbours,len(neighbours)"
      ],
      "metadata": {
        "execution": {
          "iopub.status.busy": "2022-12-30T20:08:45.813989Z",
          "iopub.execute_input": "2022-12-30T20:08:45.814733Z",
          "iopub.status.idle": "2022-12-30T20:08:45.820479Z",
          "shell.execute_reply.started": "2022-12-30T20:08:45.814695Z",
          "shell.execute_reply": "2022-12-30T20:08:45.819532Z"
        },
        "trusted": true,
        "id": "rXZh731nFo4d"
      },
      "execution_count": null,
      "outputs": []
    },
    {
      "cell_type": "code",
      "source": [
        "def expand_(data,clusters,min_point,current,i,epsilon,neighbours,distance_matrix,visited):    \n",
        "    for j in neighbours:\n",
        "        if clusters[j]==-2 : # now it is a border (denisity reachable) point so we will not get the neighbours of this point \n",
        "          clusters[j]=current # take the current class and assigned to this point \n",
        "          visited[j]=True # assigned as visited\n",
        "\n",
        "        if clusters[j]==-1 : # now it is a core point so we will get the neighbours \n",
        "            neighbour_of_core_point,lenn=neighbours_(j,distance_matrix,epsilon) \n",
        "            for neigh in neighbour_of_core_point: # get the neighbours of the neghbours\n",
        "                if not visited[neigh]: \n",
        "                    clusters[j]=current\n",
        "                    visited[neigh]=True\n",
        "                    clusters,visited=expand_(data,clusters,min_point,current,i,epsilon,neighbour_of_core_point,distance_matrix,visited)\n",
        "                else:\n",
        "                    continue\n",
        "    return clusters,visited"
      ],
      "metadata": {
        "execution": {
          "iopub.status.busy": "2022-12-30T20:08:47.791040Z",
          "iopub.execute_input": "2022-12-30T20:08:47.791854Z",
          "iopub.status.idle": "2022-12-30T20:08:47.799593Z",
          "shell.execute_reply.started": "2022-12-30T20:08:47.791800Z",
          "shell.execute_reply": "2022-12-30T20:08:47.798258Z"
        },
        "trusted": true,
        "id": "EaixK6dyFo4d"
      },
      "execution_count": null,
      "outputs": []
    },
    {
      "cell_type": "code",
      "source": [
        "epsilon = [0.1,0.2,0.3,0.5, 0.7]\n",
        "# print(epsilon)\n",
        "eps=np.random.uniform(low=0.01, high=0.05, size=(10,))\n",
        "eps=np.concatenate((eps, np.random.uniform(low=0.05, high=0.1, size=(10,))), axis=None)\n",
        "min_point = [x for x in range(4,40,2)]"
      ],
      "metadata": {
        "execution": {
          "iopub.status.busy": "2022-12-30T20:08:58.285021Z",
          "iopub.execute_input": "2022-12-30T20:08:58.285763Z",
          "iopub.status.idle": "2022-12-30T20:08:58.292206Z",
          "shell.execute_reply.started": "2022-12-30T20:08:58.285726Z",
          "shell.execute_reply": "2022-12-30T20:08:58.291225Z"
        },
        "jupyter": {
          "source_hidden": true
        },
        "trusted": true,
        "id": "VbU4slgiFo4d"
      },
      "execution_count": null,
      "outputs": []
    },
    {
      "cell_type": "code",
      "source": [
        "def define_type_of_points(epsilon,min_point,data,distance_matrix):\n",
        "    length = data.shape[0]\n",
        "    clusters = [-1 for x in range (length)]\n",
        "    for i in range(length):\n",
        "        neighbours,num_of_neighbours=neighbours_(i,distance_matrix,epsilon)\n",
        "        if num_of_neighbours < min_point-1 :\n",
        "            clusters[i]=-2 # it means this point till now is noisy point maybe will be a border point later\n",
        "    return clusters # it means -1 for core points and -2 for noisy points\n",
        "\n",
        "def DBSCAN(epsilon,min_point,data,distance_matrix):\n",
        "    #current class equal zero\n",
        "    visited=np.array([False for i in range(distance_matrix.shape[0])]) # if it visited no need to get its neighbours once again\n",
        "    current = 0 \n",
        "    length = data.shape[0]\n",
        "    clusters = define_type_of_points(epsilon,min_point,data,distance_matrix)\n",
        "    for i in range(length):\n",
        "        if clusters[i] is not -1:\n",
        "            continue\n",
        "        neighbours,num_of_neighbours=neighbours_(i,distance_matrix,epsilon)\n",
        "        if num_of_neighbours >= min_point-1 :\n",
        "            clusters[i]=current\n",
        "            clusters,visited = expand_(data,clusters,min_point,current,i,epsilon,neighbours,distance_matrix,visited)\n",
        "            current+=1\n",
        "\n",
        "    return clusters"
      ],
      "metadata": {
        "execution": {
          "iopub.status.busy": "2022-12-30T20:09:00.632500Z",
          "iopub.execute_input": "2022-12-30T20:09:00.632914Z",
          "iopub.status.idle": "2022-12-30T20:09:00.642339Z",
          "shell.execute_reply.started": "2022-12-30T20:09:00.632879Z",
          "shell.execute_reply": "2022-12-30T20:09:00.641199Z"
        },
        "trusted": true,
        "id": "dOX-oSnNFo4d"
      },
      "execution_count": null,
      "outputs": []
    },
    {
      "cell_type": "code",
      "source": [
        "clusters_unique=np.unique(np.array(DBSCAN(15,4,X_reduced_2,distance_matrix)))\n",
        "clusters=np.array(DBSCAN(15,4,X_reduced_2,distance_matrix))\n",
        "clustered_points = [g[np.argwhere(clusters==k)] for k in clusters_unique]\n",
        "accepted_clusters = [np.array(k) for k in clustered_points if len(k)>5]"
      ],
      "metadata": {
        "execution": {
          "iopub.status.busy": "2022-12-30T20:53:17.633975Z",
          "iopub.execute_input": "2022-12-30T20:53:17.635128Z",
          "iopub.status.idle": "2022-12-30T20:53:18.290028Z",
          "shell.execute_reply.started": "2022-12-30T20:53:17.635052Z",
          "shell.execute_reply": "2022-12-30T20:53:18.288869Z"
        },
        "trusted": true,
        "id": "PDWe4mesFo4e"
      },
      "execution_count": null,
      "outputs": []
    },
    {
      "cell_type": "code",
      "source": [],
      "metadata": {
        "id": "gl19qvCllYQy"
      },
      "execution_count": null,
      "outputs": []
    },
    {
      "cell_type": "code",
      "source": [
        "for cluster in accepted_clusters:\n",
        "    print(cluster.shape)"
      ],
      "metadata": {
        "execution": {
          "iopub.status.busy": "2022-12-30T20:53:18.559903Z",
          "iopub.execute_input": "2022-12-30T20:53:18.560258Z",
          "iopub.status.idle": "2022-12-30T20:53:18.566052Z",
          "shell.execute_reply.started": "2022-12-30T20:53:18.560226Z",
          "shell.execute_reply": "2022-12-30T20:53:18.564765Z"
        },
        "trusted": true,
        "id": "s5GSA7pJFo4e",
        "outputId": "fd53c147-bc5f-45d7-ab27-de17674aa7b9"
      },
      "execution_count": null,
      "outputs": [
        {
          "name": "stdout",
          "text": "(74, 1)\n(673, 1)\n(6, 1)\n",
          "output_type": "stream"
        }
      ]
    },
    {
      "cell_type": "code",
      "source": [
        "X_=np.array(X_meaned)\n",
        "distance_matrix_=calculate_distance(X_)\n",
        "clusters_unique_n=np.unique(np.array(DBSCAN(15,4,X_,distance_matrix_)))\n",
        "clusters_n=np.array(DBSCAN(15,4,X_,distance_matrix))\n",
        "clustered_points_n= [g[np.argwhere(g==k)] for k in clusters_n]\n",
        "accepted_clusters_n= [np.array(k) for k in clustered_points_n if len(k)>5]"
      ],
      "metadata": {
        "execution": {
          "iopub.status.busy": "2022-12-30T20:53:48.631166Z",
          "iopub.execute_input": "2022-12-30T20:53:48.632330Z",
          "iopub.status.idle": "2022-12-30T20:53:54.354801Z",
          "shell.execute_reply.started": "2022-12-30T20:53:48.632278Z",
          "shell.execute_reply": "2022-12-30T20:53:54.353785Z"
        },
        "trusted": true,
        "id": "kgr5PEfGFo4f"
      },
      "execution_count": null,
      "outputs": []
    },
    {
      "cell_type": "code",
      "source": [
        "for cluster in accepted_clusters_n:\n",
        "    print(cluster.shape)"
      ],
      "metadata": {
        "execution": {
          "iopub.status.busy": "2022-12-30T20:53:56.525603Z",
          "iopub.execute_input": "2022-12-30T20:53:56.526000Z",
          "iopub.status.idle": "2022-12-30T20:53:56.532020Z",
          "shell.execute_reply.started": "2022-12-30T20:53:56.525966Z",
          "shell.execute_reply": "2022-12-30T20:53:56.530757Z"
        },
        "trusted": true,
        "id": "9rN6AMekFo4f",
        "outputId": "5164f3d3-5b82-4cfa-9dc1-81ea487c7031"
      },
      "execution_count": null,
      "outputs": [
        {
          "name": "stdout",
          "text": "(74, 1)\n(673, 1)\n(6, 1)\n",
          "output_type": "stream"
        }
      ]
    },
    {
      "cell_type": "code",
      "source": [],
      "metadata": {
        "id": "TU8IZLT9Fo4f"
      },
      "execution_count": null,
      "outputs": []
    }
  ]
}